{
 "cells": [
  {
   "cell_type": "code",
   "execution_count": 1,
   "id": "461fcd92",
   "metadata": {},
   "outputs": [],
   "source": [
    "import tensorflow as tf\n",
    "import numpy as np\n",
    "from tensorflow.keras.utils import to_categorical\n",
    "import matplotlib.pyplot as plt\n",
    "%matplotlib inline\n",
    "from keras.datasets import fashion_mnist\n",
    "\n",
    "(train_X,train_Y), (test_X,test_Y) = fashion_mnist.load_data() "
   ]
  },
  {
   "cell_type": "code",
   "execution_count": 2,
   "id": "026dc3c3",
   "metadata": {},
   "outputs": [
    {
     "data": {
      "text/plain": [
       "'2.7.0'"
      ]
     },
     "execution_count": 2,
     "metadata": {},
     "output_type": "execute_result"
    }
   ],
   "source": [
    "tf.__version__"
   ]
  },
  {
   "cell_type": "code",
   "execution_count": 3,
   "id": "dcdb9507",
   "metadata": {},
   "outputs": [
    {
     "data": {
      "text/plain": [
       "[PhysicalDevice(name='/physical_device:CPU:0', device_type='CPU'),\n",
       " PhysicalDevice(name='/physical_device:GPU:0', device_type='GPU')]"
      ]
     },
     "execution_count": 3,
     "metadata": {},
     "output_type": "execute_result"
    }
   ],
   "source": [
    "tf.config.list_physical_devices()"
   ]
  },
  {
   "cell_type": "code",
   "execution_count": 4,
   "id": "cca53948",
   "metadata": {},
   "outputs": [
    {
     "name": "stdout",
     "output_type": "stream",
     "text": [
      "Training data shape :  (60000, 28, 28) (60000,)\n",
      "Testing data shape :  (10000, 28, 28) (10000,)\n"
     ]
    }
   ],
   "source": [
    "print('Training data shape : ', train_X.shape, train_Y.shape)\n",
    "print('Testing data shape : ', test_X.shape, test_Y.shape)"
   ]
  },
  {
   "cell_type": "code",
   "execution_count": 5,
   "id": "294aea13",
   "metadata": {},
   "outputs": [
    {
     "name": "stdout",
     "output_type": "stream",
     "text": [
      "Total number of outputs :  10\n",
      "Output classes :  [0 1 2 3 4 5 6 7 8 9]\n"
     ]
    }
   ],
   "source": [
    "# Find the unique numbers (classes) from the train labels\n",
    "classes = np.unique(train_Y)\n",
    "nClasses = len(classes)\n",
    "print('Total number of outputs : ', nClasses)\n",
    "print('Output classes : ', classes)"
   ]
  },
  {
   "cell_type": "code",
   "execution_count": 6,
   "id": "762acc99",
   "metadata": {},
   "outputs": [
    {
     "data": {
      "text/plain": [
       "Text(0.5, 1.0, 'Ground Truth : 9')"
      ]
     },
     "execution_count": 6,
     "metadata": {},
     "output_type": "execute_result"
    },
    {
     "data": {
      "image/png": "[encoded data removed]",
      "text/plain": [
       "<Figure size 360x360 with 2 Axes>"
      ]
     },
     "metadata": {
      "needs_background": "light"
     },
     "output_type": "display_data"
    }
   ],
   "source": [
    "plt.figure(figsize=[5,5])\n",
    "\n",
    "# Display the first image in training data\n",
    "plt.subplot(121)\n",
    "plt.imshow(train_X[0,:,:], cmap='gray')\n",
    "plt.title(\"Ground Truth class : {}\".format(train_Y[0]))\n",
    "\n",
    "# Display the first image in testing data\n",
    "plt.subplot(122)\n",
    "plt.imshow(test_X[0,:,:], cmap='gray')\n",
    "plt.title(\"Ground Truth : {}\".format(test_Y[0]))"
   ]
  },
  {
   "cell_type": "markdown",
   "id": "8c29ac93",
   "metadata": {},
   "source": [
    "# Data Preprocessing "
   ]
  },
  {
   "cell_type": "code",
   "execution_count": 7,
   "id": "44a97351",
   "metadata": {},
   "outputs": [
    {
     "data": {
      "text/plain": [
       "((60000, 28, 28, 1), (10000, 28, 28, 1))"
      ]
     },
     "execution_count": 7,
     "metadata": {},
     "output_type": "execute_result"
    }
   ],
   "source": [
    "train_X = train_X.reshape(-1, 28,28, 1)\n",
    "test_X = test_X.reshape(-1, 28,28, 1)\n",
    "train_X.shape,  test_X.shape"
   ]
  },
  {
   "cell_type": "code",
   "execution_count": 8,
   "id": "4d1941af",
   "metadata": {},
   "outputs": [],
   "source": [
    "train_X = train_X.astype('float32')\n",
    "test_X = test_X.astype('float32')\n",
    "train_X = train_X / 255.\n",
    "test_X = test_X / 255. #rescale pixel values in range 0-1"
   ]
  },
  {
   "cell_type": "code",
   "execution_count": 9,
   "id": "2f6306ed",
   "metadata": {},
   "outputs": [
    {
     "name": "stdout",
     "output_type": "stream",
     "text": [
      "Original label: 9\n",
      "After conversion to one-hot: [0. 0. 0. 0. 0. 0. 0. 0. 0. 1.]\n"
     ]
    }
   ],
   "source": [
    "# Change the labels from categorical to one-hot encoding\n",
    "train_Y_one_hot = to_categorical(train_Y)\n",
    "test_Y_one_hot = to_categorical(test_Y)\n",
    "\n",
    "# Display the change for category label using one-hot encoding\n",
    "print('Original label:', train_Y[0])\n",
    "print('After conversion to one-hot:', train_Y_one_hot[0])"
   ]
  },
  {
   "cell_type": "code",
   "execution_count": 10,
   "id": "d596e936",
   "metadata": {},
   "outputs": [],
   "source": [
    "from sklearn.model_selection import train_test_split\n",
    "train_X,valid_X,train_label,valid_label = train_test_split(train_X, train_Y_one_hot, test_size=0.2, random_state=13)"
   ]
  },
  {
   "cell_type": "code",
   "execution_count": 11,
   "id": "e5fe2a3b",
   "metadata": {},
   "outputs": [
    {
     "data": {
      "text/plain": [
       "((48000, 28, 28, 1), (12000, 28, 28, 1), (48000, 10), (12000, 10))"
      ]
     },
     "execution_count": 11,
     "metadata": {},
     "output_type": "execute_result"
    }
   ],
   "source": [
    "train_X.shape,valid_X.shape,train_label.shape,valid_label.shape"
   ]
  },
  {
   "cell_type": "markdown",
   "id": "a9fc5234",
   "metadata": {},
   "source": [
    "# Building Network"
   ]
  },
  {
   "cell_type": "code",
   "execution_count": 12,
   "id": "4891a34f",
   "metadata": {},
   "outputs": [],
   "source": [
    "import keras\n",
    "from keras.models import Sequential,Input,Model\n",
    "from keras.layers import Dense, Dropout, Flatten\n",
    "from keras.layers import Conv2D, MaxPooling2D\n",
    "from tensorflow.keras.layers import BatchNormalization\n",
    "from keras.layers.advanced_activations import LeakyReLU"
   ]
  },
  {
   "cell_type": "code",
   "execution_count": 13,
   "id": "22222aad",
   "metadata": {},
   "outputs": [],
   "source": [
    "batch_size = 64\n",
    "epochs = 20\n",
    "num_classes = 10"
   ]
  },
  {
   "cell_type": "markdown",
   "id": "4db85af8",
   "metadata": {},
   "source": [
    "Note to self: \n",
    "- 1 epoch = one forward pass and one backward pass of all the training examples\n",
    "- batch size = the number of training examples in one forward/backward pass. The higher the batch size, the more memory space you'll need.\n",
    "- number of iterations = number of passes, each pass using [batch size] number of examples. To be clear, one pass = one forward pass + one backward pass (we do not count the forward pass and backward pass as two different passes).\n",
    "\n",
    "Example: if you have 1000 training examples, and your batch size is 500, then it will take 2 iterations to complete 1 epoch."
   ]
  },
  {
   "cell_type": "code",
   "execution_count": 14,
   "id": "ee4a961c",
   "metadata": {},
   "outputs": [
    {
     "name": "stdout",
     "output_type": "stream",
     "text": [
      "Metal device set to: Apple M1 Pro\n",
      "\n",
      "systemMemory: 16.00 GB\n",
      "maxCacheSize: 5.33 GB\n",
      "\n"
     ]
    },
    {
     "name": "stderr",
     "output_type": "stream",
     "text": [
      "2022-01-15 16:15:26.993214: I tensorflow/core/common_runtime/pluggable_device/pluggable_device_factory.cc:305] Could not identify NUMA node of platform GPU ID 0, defaulting to 0. Your kernel may not have been built with NUMA support.\n",
      "2022-01-15 16:15:26.993364: I tensorflow/core/common_runtime/pluggable_device/pluggable_device_factory.cc:271] Created TensorFlow device (/job:localhost/replica:0/task:0/device:GPU:0 with 0 MB memory) -> physical PluggableDevice (device: 0, name: METAL, pci bus id: <undefined>)\n"
     ]
    }
   ],
   "source": [
    "from tensorflow.keras import layers\n",
    "fashion_model = Sequential(\n",
    "    [\n",
    "        layers.Conv2D(32, kernel_size=(3,3), activation='linear', input_shape=(28,28,1), padding='same'), \n",
    "        layers.LeakyReLU(alpha=0.1), \n",
    "        layers.MaxPooling2D((2, 2), padding='same'), \n",
    "        layers.Conv2D(64, (3, 3), activation='linear',padding='same'), \n",
    "        layers.LeakyReLU(alpha=0.1), \n",
    "        layers.MaxPooling2D(pool_size=(2, 2),padding='same'),\n",
    "        layers.Conv2D(128, (3, 3), activation='linear',padding='same'),\n",
    "        layers.LeakyReLU(alpha=0.1),\n",
    "        layers.MaxPooling2D(pool_size=(2, 2),padding='same'),\n",
    "        layers.Flatten(),\n",
    "        layers.Dense(128, activation='linear'), \n",
    "        layers.LeakyReLU(alpha=0.1),\n",
    "        layers.Dense(num_classes, activation='softmax'), \n",
    "    ]\n",
    ")"
   ]
  },
  {
   "cell_type": "code",
   "execution_count": 15,
   "id": "e9821c91",
   "metadata": {},
   "outputs": [],
   "source": [
    "fashion_model.compile(loss=keras.losses.categorical_crossentropy, optimizer=tf.keras.optimizers.Adam(),metrics=['accuracy'])"
   ]
  },
  {
   "cell_type": "code",
   "execution_count": 16,
   "id": "85502d56",
   "metadata": {},
   "outputs": [
    {
     "name": "stdout",
     "output_type": "stream",
     "text": [
      "Model: \"sequential\"\n",
      "_________________________________________________________________\n",
      " Layer (type)                Output Shape              Param #   \n",
      "=================================================================\n",
      " conv2d (Conv2D)             (None, 28, 28, 32)        320       \n",
      "                                                                 \n",
      " leaky_re_lu (LeakyReLU)     (None, 28, 28, 32)        0         \n",
      "                                                                 \n",
      " max_pooling2d (MaxPooling2D  (None, 14, 14, 32)       0         \n",
      " )                                                               \n",
      "                                                                 \n",
      " conv2d_1 (Conv2D)           (None, 14, 14, 64)        18496     \n",
      "                                                                 \n",
      " leaky_re_lu_1 (LeakyReLU)   (None, 14, 14, 64)        0         \n",
      "                                                                 \n",
      " max_pooling2d_1 (MaxPooling  (None, 7, 7, 64)         0         \n",
      " 2D)                                                             \n",
      "                                                                 \n",
      " conv2d_2 (Conv2D)           (None, 7, 7, 128)         73856     \n",
      "                                                                 \n",
      " leaky_re_lu_2 (LeakyReLU)   (None, 7, 7, 128)         0         \n",
      "                                                                 \n",
      " max_pooling2d_2 (MaxPooling  (None, 4, 4, 128)        0         \n",
      " 2D)                                                             \n",
      "                                                                 \n",
      " flatten (Flatten)           (None, 2048)              0         \n",
      "                                                                 \n",
      " dense (Dense)               (None, 128)               262272    \n",
      "                                                                 \n",
      " leaky_re_lu_3 (LeakyReLU)   (None, 128)               0         \n",
      "                                                                 \n",
      " dense_1 (Dense)             (None, 10)                1290      \n",
      "                                                                 \n",
      "=================================================================\n",
      "Total params: 356,234\n",
      "Trainable params: 356,234\n",
      "Non-trainable params: 0\n",
      "_________________________________________________________________\n"
     ]
    }
   ],
   "source": [
    "fashion_model.summary()"
   ]
  },
  {
   "cell_type": "code",
   "execution_count": 17,
   "id": "1ec06a3c",
   "metadata": {},
   "outputs": [
    {
     "name": "stderr",
     "output_type": "stream",
     "text": [
      "2022-01-15 16:15:39.890550: W tensorflow/core/platform/profile_utils/cpu_utils.cc:128] Failed to get CPU frequency: 0 Hz\n",
      "2022-01-15 16:15:40.032837: I tensorflow/core/grappler/optimizers/custom_graph_optimizer_registry.cc:112] Plugin optimizer for device_type GPU is enabled.\n"
     ]
    },
    {
     "name": "stdout",
     "output_type": "stream",
     "text": [
      "Epoch 1/20\n",
      "746/750 [============================>.] - ETA: 0s - loss: 0.4677 - accuracy: 0.8298"
     ]
    },
    {
     "name": "stderr",
     "output_type": "stream",
     "text": [
      "2022-01-15 16:15:48.988926: I tensorflow/core/grappler/optimizers/custom_graph_optimizer_registry.cc:112] Plugin optimizer for device_type GPU is enabled.\n"
     ]
    },
    {
     "name": "stdout",
     "output_type": "stream",
     "text": [
      "750/750 [==============================] - 10s 13ms/step - loss: 0.4676 - accuracy: 0.8300 - val_loss: 0.3273 - val_accuracy: 0.8796\n",
      "Epoch 2/20\n",
      "750/750 [==============================] - 10s 13ms/step - loss: 0.2875 - accuracy: 0.8957 - val_loss: 0.3006 - val_accuracy: 0.8903\n",
      "Epoch 3/20\n",
      "750/750 [==============================] - 10s 13ms/step - loss: 0.2412 - accuracy: 0.9111 - val_loss: 0.2468 - val_accuracy: 0.9112\n",
      "Epoch 4/20\n",
      "750/750 [==============================] - 10s 13ms/step - loss: 0.2082 - accuracy: 0.9238 - val_loss: 0.2463 - val_accuracy: 0.9109\n",
      "Epoch 5/20\n",
      "750/750 [==============================] - 10s 13ms/step - loss: 0.1832 - accuracy: 0.9323 - val_loss: 0.2375 - val_accuracy: 0.9128\n",
      "Epoch 6/20\n",
      "750/750 [==============================] - 10s 13ms/step - loss: 0.1600 - accuracy: 0.9395 - val_loss: 0.2196 - val_accuracy: 0.9220\n",
      "Epoch 7/20\n",
      "750/750 [==============================] - 10s 13ms/step - loss: 0.1371 - accuracy: 0.9490 - val_loss: 0.2384 - val_accuracy: 0.9217\n",
      "Epoch 8/20\n",
      "750/750 [==============================] - 10s 13ms/step - loss: 0.1159 - accuracy: 0.9561 - val_loss: 0.2512 - val_accuracy: 0.9192\n",
      "Epoch 9/20\n",
      "750/750 [==============================] - 10s 13ms/step - loss: 0.1004 - accuracy: 0.9627 - val_loss: 0.2419 - val_accuracy: 0.9228\n",
      "Epoch 10/20\n",
      "750/750 [==============================] - 10s 13ms/step - loss: 0.0861 - accuracy: 0.9675 - val_loss: 0.2654 - val_accuracy: 0.9189\n",
      "Epoch 11/20\n",
      "750/750 [==============================] - 10s 13ms/step - loss: 0.0703 - accuracy: 0.9741 - val_loss: 0.2830 - val_accuracy: 0.9209\n",
      "Epoch 12/20\n",
      "750/750 [==============================] - 10s 13ms/step - loss: 0.0603 - accuracy: 0.9779 - val_loss: 0.3179 - val_accuracy: 0.9182\n",
      "Epoch 13/20\n",
      "750/750 [==============================] - 10s 13ms/step - loss: 0.0529 - accuracy: 0.9805 - val_loss: 0.3249 - val_accuracy: 0.9217\n",
      "Epoch 14/20\n",
      "750/750 [==============================] - 10s 13ms/step - loss: 0.0492 - accuracy: 0.9816 - val_loss: 0.3666 - val_accuracy: 0.9219\n",
      "Epoch 15/20\n",
      "750/750 [==============================] - 10s 13ms/step - loss: 0.0414 - accuracy: 0.9844 - val_loss: 0.3540 - val_accuracy: 0.9203\n",
      "Epoch 16/20\n",
      "750/750 [==============================] - 10s 13ms/step - loss: 0.0377 - accuracy: 0.9860 - val_loss: 0.3884 - val_accuracy: 0.9202\n",
      "Epoch 17/20\n",
      "750/750 [==============================] - 10s 13ms/step - loss: 0.0341 - accuracy: 0.9874 - val_loss: 0.3613 - val_accuracy: 0.9271\n",
      "Epoch 18/20\n",
      "750/750 [==============================] - 10s 13ms/step - loss: 0.0364 - accuracy: 0.9859 - val_loss: 0.4257 - val_accuracy: 0.9202\n",
      "Epoch 19/20\n",
      "750/750 [==============================] - 10s 13ms/step - loss: 0.0315 - accuracy: 0.9887 - val_loss: 0.4275 - val_accuracy: 0.9202\n",
      "Epoch 20/20\n",
      "750/750 [==============================] - 10s 13ms/step - loss: 0.0278 - accuracy: 0.9901 - val_loss: 0.4432 - val_accuracy: 0.9246\n"
     ]
    }
   ],
   "source": [
    "fashion_train = fashion_model.fit(train_X, train_label, batch_size=batch_size,epochs=epochs,verbose=1,validation_data=(valid_X, valid_label))\n",
    "test_eval = fashion_model.evaluate(test_X, test_Y_one_hot, verbose=0)"
   ]
  },
  {
   "cell_type": "code",
   "execution_count": 18,
   "id": "cc4eda47",
   "metadata": {},
   "outputs": [
    {
     "name": "stdout",
     "output_type": "stream",
     "text": [
      "Test loss: 0.4632566273212433\n",
      "Test accuracy: 0.9202000498771667\n"
     ]
    }
   ],
   "source": [
    "print('Test loss:', test_eval[0])\n",
    "print('Test accuracy:', test_eval[1])"
   ]
  },
  {
   "cell_type": "code",
   "execution_count": 19,
   "id": "adb05a3f",
   "metadata": {},
   "outputs": [
    {
     "data": {
      "image/png": "[encoded data removed]",
      "text/plain": [
       "<Figure size 432x288 with 1 Axes>"
      ]
     },
     "metadata": {
      "needs_background": "light"
     },
     "output_type": "display_data"
    },
    {
     "data": {
      "image/png": "[encoded data removed]",
      "text/plain": [
       "<Figure size 432x288 with 1 Axes>"
      ]
     },
     "metadata": {
      "needs_background": "light"
     },
     "output_type": "display_data"
    }
   ],
   "source": [
    "accuracy = fashion_train.history['accuracy']\n",
    "val_accuracy = fashion_train.history['val_accuracy']\n",
    "loss = fashion_train.history['loss']\n",
    "val_loss = fashion_train.history['val_loss']\n",
    "epochs = range(len(accuracy))\n",
    "plt.plot(epochs, accuracy, 'bo', label='Training accuracy')\n",
    "plt.plot(epochs, val_accuracy, 'b', label='Validation accuracy')\n",
    "plt.title('Training and validation accuracy')\n",
    "plt.legend()\n",
    "plt.figure()\n",
    "plt.plot(epochs, loss, 'bo', label='Training loss')\n",
    "plt.plot(epochs, val_loss, 'b', label='Validation loss')\n",
    "plt.title('Training and validation loss')\n",
    "plt.legend()\n",
    "plt.show()"
   ]
  },
  {
   "cell_type": "markdown",
   "id": "171546c8",
   "metadata": {},
   "source": [
    "From the above two plots, you can see that the validation accuracy almost became stagnant after 4-5 epochs and rarely increased at certain epochs. In the beginning, the validation accuracy was linearly increasing with loss, but then it did not increase much.\n",
    "\n",
    "The validation loss shows that this is the sign of overfitting, similar to validation accuracy it linearly decreased but after 4-5 epochs, it started to increase. This means that the model tried to memorize the data and succeeded."
   ]
  },
  {
   "cell_type": "code",
   "execution_count": 20,
   "id": "0549494c",
   "metadata": {},
   "outputs": [],
   "source": [
    "# Adding Dropout version\n",
    "batch_size = 64\n",
    "epochs = 20\n",
    "num_classes = 10"
   ]
  },
  {
   "cell_type": "code",
   "execution_count": 23,
   "id": "0b53e242",
   "metadata": {},
   "outputs": [],
   "source": [
    "fashion_model_dropout = Sequential(\n",
    "    [\n",
    "        layers.Conv2D(32, kernel_size=(3, 3),activation='linear',padding='same',input_shape=(28,28,1)), \n",
    "        layers.LeakyReLU(alpha=0.1),\n",
    "        layers.MaxPooling2D((2, 2),padding='same'),\n",
    "        layers.Dropout(0.25), \n",
    "        layers.Conv2D(64, kernel_size=(3, 3),activation='linear',padding='same',input_shape=(28,28,1)), \n",
    "        layers.LeakyReLU(alpha=0.1),\n",
    "        layers.MaxPooling2D((2, 2),padding='same'),\n",
    "        layers.Dropout(0.25), \n",
    "        layers.Conv2D(128, kernel_size=(3, 3),activation='linear',padding='same',input_shape=(28,28,1)), \n",
    "        layers.LeakyReLU(alpha=0.1),\n",
    "        layers.MaxPooling2D((2, 2),padding='same'),\n",
    "        layers.Dropout(0.4), \n",
    "        layers.Flatten(),\n",
    "        layers.Dense(128, activation='linear'), \n",
    "        layers.LeakyReLU(alpha=0.1),\n",
    "        layers.Dropout(0.3), \n",
    "        layers.Dense(num_classes, activation='softmax'), \n",
    "    ]\n",
    ")"
   ]
  },
  {
   "cell_type": "code",
   "execution_count": 24,
   "id": "40f1d187",
   "metadata": {},
   "outputs": [
    {
     "name": "stdout",
     "output_type": "stream",
     "text": [
      "Model: \"sequential_3\"\n",
      "_________________________________________________________________\n",
      " Layer (type)                Output Shape              Param #   \n",
      "=================================================================\n",
      " conv2d_9 (Conv2D)           (None, 28, 28, 32)        320       \n",
      "                                                                 \n",
      " leaky_re_lu_12 (LeakyReLU)  (None, 28, 28, 32)        0         \n",
      "                                                                 \n",
      " max_pooling2d_9 (MaxPooling  (None, 14, 14, 32)       0         \n",
      " 2D)                                                             \n",
      "                                                                 \n",
      " dropout_8 (Dropout)         (None, 14, 14, 32)        0         \n",
      "                                                                 \n",
      " conv2d_10 (Conv2D)          (None, 14, 14, 64)        18496     \n",
      "                                                                 \n",
      " leaky_re_lu_13 (LeakyReLU)  (None, 14, 14, 64)        0         \n",
      "                                                                 \n",
      " max_pooling2d_10 (MaxPoolin  (None, 7, 7, 64)         0         \n",
      " g2D)                                                            \n",
      "                                                                 \n",
      " dropout_9 (Dropout)         (None, 7, 7, 64)          0         \n",
      "                                                                 \n",
      " conv2d_11 (Conv2D)          (None, 7, 7, 128)         73856     \n",
      "                                                                 \n",
      " leaky_re_lu_14 (LeakyReLU)  (None, 7, 7, 128)         0         \n",
      "                                                                 \n",
      " max_pooling2d_11 (MaxPoolin  (None, 4, 4, 128)        0         \n",
      " g2D)                                                            \n",
      "                                                                 \n",
      " dropout_10 (Dropout)        (None, 4, 4, 128)         0         \n",
      "                                                                 \n",
      " flatten_3 (Flatten)         (None, 2048)              0         \n",
      "                                                                 \n",
      " dense_6 (Dense)             (None, 128)               262272    \n",
      "                                                                 \n",
      " leaky_re_lu_15 (LeakyReLU)  (None, 128)               0         \n",
      "                                                                 \n",
      " dropout_11 (Dropout)        (None, 128)               0         \n",
      "                                                                 \n",
      " dense_7 (Dense)             (None, 10)                1290      \n",
      "                                                                 \n",
      "=================================================================\n",
      "Total params: 356,234\n",
      "Trainable params: 356,234\n",
      "Non-trainable params: 0\n",
      "_________________________________________________________________\n"
     ]
    }
   ],
   "source": [
    "fashion_model_dropout.summary()"
   ]
  },
  {
   "cell_type": "code",
   "execution_count": 25,
   "id": "998e332d",
   "metadata": {},
   "outputs": [],
   "source": [
    "fashion_model_dropout.compile(loss=keras.losses.categorical_crossentropy, optimizer=tf.keras.optimizers.Adam(),metrics=['accuracy'])"
   ]
  },
  {
   "cell_type": "code",
   "execution_count": 26,
   "id": "7208cc7d",
   "metadata": {},
   "outputs": [
    {
     "name": "stdout",
     "output_type": "stream",
     "text": [
      "Epoch 1/20\n",
      "  1/750 [..............................] - ETA: 3:31 - loss: 2.2954 - accuracy: 0.1250"
     ]
    },
    {
     "name": "stderr",
     "output_type": "stream",
     "text": [
      "2022-01-15 16:37:04.099861: I tensorflow/core/grappler/optimizers/custom_graph_optimizer_registry.cc:112] Plugin optimizer for device_type GPU is enabled.\n"
     ]
    },
    {
     "name": "stdout",
     "output_type": "stream",
     "text": [
      "750/750 [==============================] - ETA: 0s - loss: 0.5932 - accuracy: 0.7791"
     ]
    },
    {
     "name": "stderr",
     "output_type": "stream",
     "text": [
      "2022-01-15 16:37:13.957476: I tensorflow/core/grappler/optimizers/custom_graph_optimizer_registry.cc:112] Plugin optimizer for device_type GPU is enabled.\n"
     ]
    },
    {
     "name": "stdout",
     "output_type": "stream",
     "text": [
      "750/750 [==============================] - 11s 15ms/step - loss: 0.5932 - accuracy: 0.7791 - val_loss: 0.3620 - val_accuracy: 0.8678\n",
      "Epoch 2/20\n",
      "750/750 [==============================] - 10s 14ms/step - loss: 0.3759 - accuracy: 0.8613 - val_loss: 0.3040 - val_accuracy: 0.8890\n",
      "Epoch 3/20\n",
      "750/750 [==============================] - 10s 14ms/step - loss: 0.3292 - accuracy: 0.8784 - val_loss: 0.2873 - val_accuracy: 0.8927\n",
      "Epoch 4/20\n",
      "750/750 [==============================] - 11s 14ms/step - loss: 0.2999 - accuracy: 0.8874 - val_loss: 0.2672 - val_accuracy: 0.9017\n",
      "Epoch 5/20\n",
      "750/750 [==============================] - 11s 14ms/step - loss: 0.2828 - accuracy: 0.8953 - val_loss: 0.2517 - val_accuracy: 0.9045\n",
      "Epoch 6/20\n",
      "750/750 [==============================] - 10s 14ms/step - loss: 0.2670 - accuracy: 0.8987 - val_loss: 0.2363 - val_accuracy: 0.9119\n",
      "Epoch 7/20\n",
      "750/750 [==============================] - 10s 14ms/step - loss: 0.2614 - accuracy: 0.9026 - val_loss: 0.2274 - val_accuracy: 0.9162\n",
      "Epoch 8/20\n",
      "750/750 [==============================] - 10s 14ms/step - loss: 0.2463 - accuracy: 0.9076 - val_loss: 0.2338 - val_accuracy: 0.9121\n",
      "Epoch 9/20\n",
      "750/750 [==============================] - 10s 14ms/step - loss: 0.2444 - accuracy: 0.9091 - val_loss: 0.2274 - val_accuracy: 0.9176\n",
      "Epoch 10/20\n",
      "750/750 [==============================] - 10s 14ms/step - loss: 0.2364 - accuracy: 0.9114 - val_loss: 0.2416 - val_accuracy: 0.9134\n",
      "Epoch 11/20\n",
      "750/750 [==============================] - 10s 14ms/step - loss: 0.2284 - accuracy: 0.9135 - val_loss: 0.2269 - val_accuracy: 0.9163\n",
      "Epoch 12/20\n",
      "750/750 [==============================] - 10s 14ms/step - loss: 0.2227 - accuracy: 0.9163 - val_loss: 0.2224 - val_accuracy: 0.9171\n",
      "Epoch 13/20\n",
      "750/750 [==============================] - 11s 14ms/step - loss: 0.2194 - accuracy: 0.9170 - val_loss: 0.2105 - val_accuracy: 0.9242\n",
      "Epoch 14/20\n",
      "750/750 [==============================] - 11s 14ms/step - loss: 0.2095 - accuracy: 0.9214 - val_loss: 0.2120 - val_accuracy: 0.9235\n",
      "Epoch 15/20\n",
      "750/750 [==============================] - 11s 14ms/step - loss: 0.2091 - accuracy: 0.9204 - val_loss: 0.2111 - val_accuracy: 0.9231\n",
      "Epoch 16/20\n",
      "750/750 [==============================] - 11s 14ms/step - loss: 0.2066 - accuracy: 0.9219 - val_loss: 0.2054 - val_accuracy: 0.9257\n",
      "Epoch 17/20\n",
      "750/750 [==============================] - 11s 14ms/step - loss: 0.2035 - accuracy: 0.9233 - val_loss: 0.2040 - val_accuracy: 0.9273\n",
      "Epoch 18/20\n",
      "750/750 [==============================] - 11s 14ms/step - loss: 0.1994 - accuracy: 0.9253 - val_loss: 0.2105 - val_accuracy: 0.9250\n",
      "Epoch 19/20\n",
      "750/750 [==============================] - 11s 14ms/step - loss: 0.1976 - accuracy: 0.9271 - val_loss: 0.2141 - val_accuracy: 0.9218\n",
      "Epoch 20/20\n",
      "750/750 [==============================] - 11s 14ms/step - loss: 0.1976 - accuracy: 0.9250 - val_loss: 0.2146 - val_accuracy: 0.9238\n"
     ]
    }
   ],
   "source": [
    "fashion_train_dropout = fashion_model_dropout.fit(train_X, train_label, batch_size=batch_size,epochs=epochs,verbose=1,validation_data=(valid_X, valid_label))"
   ]
  },
  {
   "cell_type": "code",
   "execution_count": 27,
   "id": "ed25d36c",
   "metadata": {},
   "outputs": [
    {
     "name": "stderr",
     "output_type": "stream",
     "text": [
      "2022-01-15 16:40:50.876507: W tensorflow/python/util/util.cc:368] Sets are not currently considered sequences, but this may change in the future, so consider avoiding using them.\n"
     ]
    },
    {
     "name": "stdout",
     "output_type": "stream",
     "text": [
      "INFO:tensorflow:Assets written to: fashion_model_dropout.h5py/assets\n"
     ]
    }
   ],
   "source": [
    "fashion_model_dropout.save(\"fashion_model_dropout.h5py\")"
   ]
  },
  {
   "cell_type": "code",
   "execution_count": 28,
   "id": "01917614",
   "metadata": {},
   "outputs": [
    {
     "name": "stdout",
     "output_type": "stream",
     "text": [
      "313/313 [==============================] - 2s 6ms/step - loss: 0.2252 - accuracy: 0.9207\n"
     ]
    }
   ],
   "source": [
    "test_eval = fashion_model_dropout.evaluate(test_X, test_Y_one_hot, verbose=1)"
   ]
  },
  {
   "cell_type": "code",
   "execution_count": 29,
   "id": "c6b3ecb2",
   "metadata": {},
   "outputs": [
    {
     "name": "stdout",
     "output_type": "stream",
     "text": [
      "Test loss: 0.225224569439888\n",
      "Test accuracy: 0.9207000732421875\n"
     ]
    }
   ],
   "source": [
    "print('Test loss:', test_eval[0])\n",
    "print('Test accuracy:', test_eval[1])"
   ]
  },
  {
   "cell_type": "code",
   "execution_count": 30,
   "id": "270556e9",
   "metadata": {},
   "outputs": [
    {
     "data": {
      "image/png": "[encoded data removed]",
      "text/plain": [
       "<Figure size 432x288 with 1 Axes>"
      ]
     },
     "metadata": {
      "needs_background": "light"
     },
     "output_type": "display_data"
    },
    {
     "data": {
      "image/png": "[encoded data removed]",
      "text/plain": [
       "<Figure size 432x288 with 1 Axes>"
      ]
     },
     "metadata": {
      "needs_background": "light"
     },
     "output_type": "display_data"
    }
   ],
   "source": [
    "accuracy = fashion_train_dropout.history['accuracy']\n",
    "val_accuracy = fashion_train_dropout.history['val_accuracy']\n",
    "loss = fashion_train_dropout.history['loss']\n",
    "val_loss = fashion_train_dropout.history['val_loss']\n",
    "epochs = range(len(accuracy))\n",
    "plt.plot(epochs, accuracy, 'bo', label='Training accuracy')\n",
    "plt.plot(epochs, val_accuracy, 'b', label='Validation accuracy')\n",
    "plt.title('Training and validation accuracy')\n",
    "plt.legend()\n",
    "plt.figure()\n",
    "plt.plot(epochs, loss, 'bo', label='Training loss')\n",
    "plt.plot(epochs, val_loss, 'b', label='Validation loss')\n",
    "plt.title('Training and validation loss')\n",
    "plt.legend()\n",
    "plt.show()"
   ]
  },
  {
   "cell_type": "markdown",
   "id": "c2e15735",
   "metadata": {},
   "source": [
    "Finally, you can see that the validation loss and validation accuracy both are in sync with the training loss and training accuracy. Even though the validation loss and accuracy line are not linear, but it shows that your model is not overfitting: the validation loss is decreasing and not increasing, and there is not much gap between training and validation accuracy."
   ]
  },
  {
   "cell_type": "markdown",
   "id": "05461299",
   "metadata": {},
   "source": [
    "# Predict Labels"
   ]
  },
  {
   "cell_type": "code",
   "execution_count": 31,
   "id": "6729d49f",
   "metadata": {},
   "outputs": [
    {
     "name": "stderr",
     "output_type": "stream",
     "text": [
      "2022-01-15 16:41:24.962513: I tensorflow/core/grappler/optimizers/custom_graph_optimizer_registry.cc:112] Plugin optimizer for device_type GPU is enabled.\n"
     ]
    }
   ],
   "source": [
    "predicted_classes = fashion_model.predict(test_X)"
   ]
  },
  {
   "cell_type": "code",
   "execution_count": 32,
   "id": "20395e81",
   "metadata": {},
   "outputs": [],
   "source": [
    "predicted_classes = np.argmax(np.round(predicted_classes),axis=1)"
   ]
  },
  {
   "cell_type": "code",
   "execution_count": 33,
   "id": "9b6ec8aa",
   "metadata": {},
   "outputs": [
    {
     "data": {
      "text/plain": [
       "((10000,), (10000,))"
      ]
     },
     "execution_count": 33,
     "metadata": {},
     "output_type": "execute_result"
    }
   ],
   "source": [
    "predicted_classes.shape, test_Y.shape"
   ]
  },
  {
   "cell_type": "code",
   "execution_count": 34,
   "id": "689dbd2b",
   "metadata": {},
   "outputs": [
    {
     "name": "stdout",
     "output_type": "stream",
     "text": [
      "Found 1000 correct labels\n"
     ]
    },
    {
     "data": {
      "image/png": "[encoded data removed]",
      "text/plain": [
       "<Figure size 432x288 with 8 Axes>"
      ]
     },
     "metadata": {
      "needs_background": "light"
     },
     "output_type": "display_data"
    }
   ],
   "source": [
    "correct = np.where(predicted_classes==test_Y)[0]\n",
    "print (\"Found %d correct labels\" % len(correct))\n",
    "for i, correct in enumerate(correct[:9]):\n",
    "    plt.subplot(3,3,i+1)\n",
    "    plt.imshow(test_X[correct].reshape(28,28), cmap='gray', interpolation='none')\n",
    "    plt.title(\"Predicted {}, Class {}\".format(predicted_classes[correct], test_Y[correct]))\n",
    "    plt.tight_layout()"
   ]
  },
  {
   "cell_type": "code",
   "execution_count": 35,
   "id": "9fb91c8f",
   "metadata": {},
   "outputs": [
    {
     "name": "stdout",
     "output_type": "stream",
     "text": [
      "Found 9000 incorrect labels\n"
     ]
    },
    {
     "data": {
      "image/png": "[encoded data removed]",
      "text/plain": [
       "<Figure size 432x288 with 8 Axes>"
      ]
     },
     "metadata": {
      "needs_background": "light"
     },
     "output_type": "display_data"
    }
   ],
   "source": [
    "incorrect = np.where(predicted_classes!=test_Y)[0]\n",
    "print (\"Found %d incorrect labels\" % len(incorrect))\n",
    "for i, incorrect in enumerate(incorrect[:9]):\n",
    "    plt.subplot(3,3,i+1)\n",
    "    plt.imshow(test_X[incorrect].reshape(28,28), cmap='gray', interpolation='none')\n",
    "    plt.title(\"Predicted {}, Class {}\".format(predicted_classes[incorrect], test_Y[incorrect]))\n",
    "    plt.tight_layout()"
   ]
  },
  {
   "cell_type": "code",
   "execution_count": 36,
   "id": "16de8352",
   "metadata": {},
   "outputs": [
    {
     "name": "stdout",
     "output_type": "stream",
     "text": [
      "              precision    recall  f1-score   support\n",
      "\n",
      "     Class 0       0.10      1.00      0.18      1000\n",
      "     Class 1       0.00      0.00      0.00      1000\n",
      "     Class 2       0.00      0.00      0.00      1000\n",
      "     Class 3       0.00      0.00      0.00      1000\n",
      "     Class 4       0.00      0.00      0.00      1000\n",
      "     Class 5       0.00      0.00      0.00      1000\n",
      "     Class 6       0.00      0.00      0.00      1000\n",
      "     Class 7       0.00      0.00      0.00      1000\n",
      "     Class 8       0.00      0.00      0.00      1000\n",
      "     Class 9       0.00      0.00      0.00      1000\n",
      "\n",
      "    accuracy                           0.10     10000\n",
      "   macro avg       0.01      0.10      0.02     10000\n",
      "weighted avg       0.01      0.10      0.02     10000\n",
      "\n"
     ]
    }
   ],
   "source": [
    "from sklearn.metrics import classification_report\n",
    "target_names = [\"Class {}\".format(i) for i in range(num_classes)]\n",
    "print(classification_report(test_Y, predicted_classes, target_names=target_names))"
   ]
  }
 ],
 "metadata": {
  "kernelspec": {
   "display_name": "Python 3 (ipykernel)",
   "language": "python",
   "name": "python3"
  },
  "language_info": {
   "codemirror_mode": {
    "name": "ipython",
    "version": 3
   },
   "file_extension": ".py",
   "mimetype": "text/x-python",
   "name": "python",
   "nbconvert_exporter": "python",
   "pygments_lexer": "ipython3",
   "version": "3.9.9"
  }
 },
 "nbformat": 4,
 "nbformat_minor": 5
}
